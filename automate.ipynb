{
 "cells": [
  {
   "cell_type": "code",
   "execution_count": 46,
   "metadata": {},
   "outputs": [],
   "source": [
    "from selenium import webdriver\n",
    "from selenium.webdriver.common.keys import Keys\n",
    "from selenium.webdriver.common.action_chains import ActionChains\n",
    "import time"
   ]
  },
  {
   "cell_type": "code",
   "execution_count": 47,
   "metadata": {},
   "outputs": [],
   "source": [
    "email=\"email\"\n",
    "password=\"password\""
   ]
  },
  {
   "cell_type": "code",
   "execution_count": 55,
   "metadata": {},
   "outputs": [],
   "source": [
    "driver = webdriver.Chrome();\n",
    "driver.get(\"https://open.spotify.com/\")\n",
    "\n",
    "ele = driver.find_element_by_xpath('//*[@id=\"main\"]/div/div[2]/div[1]/header/div[5]/button[2]').click()\n",
    "time.sleep(1)\n",
    "\n",
    "ele = driver.find_element_by_xpath('//*[@id=\"app\"]/body/div[1]/div[2]/div/div[2]/div/a').click()\n",
    "time.sleep(1)\n",
    "\n",
    "emailContainer = driver.find_element_by_name(\"email\")\n",
    "emailContainer.clear()\n",
    "emailContainer.send_keys(email)\n",
    "passContainer = driver.find_element_by_name(\"pass\")\n",
    "passContainer.clear()\n",
    "passContainer.send_keys(password)\n",
    "passContainer.send_keys(Keys.RETURN)\n",
    "time.sleep(10)\n",
    "\n",
    "searchButton = driver.find_element_by_xpath('/html/body/div[4]/div/div[2]/nav/div[1]/ul/li[2]/a').click()\n",
    "time.sleep(5)\n",
    "\n",
    "searchField = driver.find_element_by_xpath('//*[@id=\"main\"]/div/div[2]/div[1]/header/div[3]/div/div/input')\n",
    "searchField.send_keys(\"jubin nautiyal\")\n",
    "time.sleep(5)\n",
    "\n",
    "seeAll = driver.find_element_by_xpath('//*[@id=\"searchPage\"]/div/div/section[2]/div[1]/div/a').click()\n",
    "time.sleep(5)\n",
    "\n",
    "action = ActionChains(driver)\n",
    " \n",
    "hoverTo = driver.find_element_by_xpath('//*[@id=\"searchPage\"]/div/div/div/div[2]/div[2]/div[1]/div')\n",
    "action.move_to_element(hoverTo).perform()\n",
    "time.sleep(1)\n",
    " \n",
    "playButton = driver.find_element_by_xpath('//*[@id=\"searchPage\"]/div/div/div/div[2]/div[2]/div[1]/div/div[1]/div/button')\n",
    "playButton.click()"
   ]
  },
  {
   "cell_type": "code",
   "execution_count": null,
   "metadata": {},
   "outputs": [],
   "source": []
  }
 ],
 "metadata": {
  "kernelspec": {
   "display_name": "Python 3",
   "language": "python",
   "name": "python3"
  },
  "language_info": {
   "codemirror_mode": {
    "name": "ipython",
    "version": 3
   },
   "file_extension": ".py",
   "mimetype": "text/x-python",
   "name": "python",
   "nbconvert_exporter": "python",
   "pygments_lexer": "ipython3",
   "version": "3.7.3"
  }
 },
 "nbformat": 4,
 "nbformat_minor": 2
}
